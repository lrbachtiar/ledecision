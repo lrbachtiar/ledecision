{
 "cells": [
  {
   "cell_type": "markdown",
   "metadata": {},
   "source": [
    "## Load Functions and Libraries"
   ]
  },
  {
   "cell_type": "code",
   "execution_count": 1,
   "metadata": {},
   "outputs": [
    {
     "name": "stdout",
     "output_type": "stream",
     "text": [
      "Root project dir is: C:\\Users\\bachtia2\\Projects\\ledecision\\code\n"
     ]
    }
   ],
   "source": [
    "%run \"./lelib/leinit_py.py\""
   ]
  },
  {
   "cell_type": "code",
   "execution_count": 2,
   "metadata": {},
   "outputs": [],
   "source": [
    "from lelib.lefunctions import *\n",
    "from bs4 import BeautifulSoup\n",
    "import urllib\n",
    "import codecs\n",
    "import pandas as pd\n",
    "import sqlite3"
   ]
  },
  {
   "cell_type": "markdown",
   "metadata": {},
   "source": [
    "## Connect to DB, load data and convert to dataframe"
   ]
  },
  {
   "cell_type": "code",
   "execution_count": 3,
   "metadata": {},
   "outputs": [],
   "source": [
    "db_path = \"./ledata/01_raw/ledb_1.db\""
   ]
  },
  {
   "cell_type": "code",
   "execution_count": 4,
   "metadata": {},
   "outputs": [],
   "source": [
    "conn = sqlite3.connect(db_path)\n",
    "c = conn.cursor()"
   ]
  },
  {
   "cell_type": "code",
   "execution_count": 5,
   "metadata": {},
   "outputs": [
    {
     "data": {
      "text/plain": [
       "<sqlite3.Cursor at 0x1e489e19650>"
      ]
     },
     "execution_count": 5,
     "metadata": {},
     "output_type": "execute_result"
    }
   ],
   "source": [
    "c.execute('SELECT SQLITE_VERSION()')"
   ]
  },
  {
   "cell_type": "code",
   "execution_count": 6,
   "metadata": {},
   "outputs": [],
   "source": [
    "c.execute('SELECT * FROM tweets')\n",
    "raw_data = c.fetchall()"
   ]
  },
  {
   "cell_type": "code",
   "execution_count": 7,
   "metadata": {},
   "outputs": [],
   "source": [
    "conn.close()"
   ]
  },
  {
   "cell_type": "code",
   "execution_count": 8,
   "metadata": {},
   "outputs": [],
   "source": [
    "raw_df = pd.DataFrame(raw_data)\n",
    "raw_df.columns = ['text', 'username', 'date', 'location']"
   ]
  },
  {
   "cell_type": "code",
   "execution_count": 9,
   "metadata": {},
   "outputs": [],
   "source": [
    "# clear raw data list\n",
    "del raw_data"
   ]
  },
  {
   "cell_type": "code",
   "execution_count": 10,
   "metadata": {
    "scrolled": true
   },
   "outputs": [
    {
     "data": {
      "text/html": [
       "<div>\n",
       "<style scoped>\n",
       "    .dataframe tbody tr th:only-of-type {\n",
       "        vertical-align: middle;\n",
       "    }\n",
       "\n",
       "    .dataframe tbody tr th {\n",
       "        vertical-align: top;\n",
       "    }\n",
       "\n",
       "    .dataframe thead th {\n",
       "        text-align: right;\n",
       "    }\n",
       "</style>\n",
       "<table border=\"1\" class=\"dataframe\">\n",
       "  <thead>\n",
       "    <tr style=\"text-align: right;\">\n",
       "      <th></th>\n",
       "      <th>text</th>\n",
       "      <th>username</th>\n",
       "      <th>date</th>\n",
       "      <th>location</th>\n",
       "    </tr>\n",
       "  </thead>\n",
       "  <tbody>\n",
       "    <tr>\n",
       "      <th>0</th>\n",
       "      <td>\"Imagine the possibilities of a lineup includi...</td>\n",
       "      <td>SugeW</td>\n",
       "      <td>2018-06-30 12:49:33</td>\n",
       "      <td>Delaware</td>\n",
       "    </tr>\n",
       "    <tr>\n",
       "      <th>1</th>\n",
       "      <td>@5ReasonsSports @MichaelRyanRuiz All the prais...</td>\n",
       "      <td>SuperJamono</td>\n",
       "      <td>2018-06-30 12:49:33</td>\n",
       "      <td></td>\n",
       "    </tr>\n",
       "    <tr>\n",
       "      <th>2</th>\n",
       "      <td>Ladies don’t date a guy who follows Lebron to ...</td>\n",
       "      <td>Mr_CEO_BTRAIN</td>\n",
       "      <td>2018-06-30 12:49:30</td>\n",
       "      <td>Uhrichsville  ➡️  Akron</td>\n",
       "    </tr>\n",
       "    <tr>\n",
       "      <th>3</th>\n",
       "      <td>LeBron James Business Ventures, Howard Mitchel...</td>\n",
       "      <td>hmitchell535</td>\n",
       "      <td>2018-06-30 12:49:28</td>\n",
       "      <td></td>\n",
       "    </tr>\n",
       "    <tr>\n",
       "      <th>4</th>\n",
       "      <td>Forget the @Lakers and the @cavs, LeBron shoul...</td>\n",
       "      <td>sportsbyfry</td>\n",
       "      <td>2018-06-30 12:49:26</td>\n",
       "      <td>Canada</td>\n",
       "    </tr>\n",
       "  </tbody>\n",
       "</table>\n",
       "</div>"
      ],
      "text/plain": [
       "                                                text       username  \\\n",
       "0  \"Imagine the possibilities of a lineup includi...          SugeW   \n",
       "1  @5ReasonsSports @MichaelRyanRuiz All the prais...    SuperJamono   \n",
       "2  Ladies don’t date a guy who follows Lebron to ...  Mr_CEO_BTRAIN   \n",
       "3  LeBron James Business Ventures, Howard Mitchel...   hmitchell535   \n",
       "4  Forget the @Lakers and the @cavs, LeBron shoul...    sportsbyfry   \n",
       "\n",
       "                  date                 location  \n",
       "0  2018-06-30 12:49:33                 Delaware  \n",
       "1  2018-06-30 12:49:33                           \n",
       "2  2018-06-30 12:49:30  Uhrichsville  ➡️  Akron  \n",
       "3  2018-06-30 12:49:28                           \n",
       "4  2018-06-30 12:49:26                   Canada  "
      ]
     },
     "execution_count": 10,
     "metadata": {},
     "output_type": "execute_result"
    }
   ],
   "source": [
    "raw_df[:5]"
   ]
  },
  {
   "cell_type": "markdown",
   "metadata": {},
   "source": [
    "## Clean Data"
   ]
  },
  {
   "cell_type": "code",
   "execution_count": 11,
   "metadata": {},
   "outputs": [],
   "source": [
    "test_df = raw_df"
   ]
  },
  {
   "cell_type": "code",
   "execution_count": 12,
   "metadata": {},
   "outputs": [],
   "source": [
    "import re\n",
    "\n",
    "def tweet_cleaner(s):    \n",
    "    s = re.sub(r\"http\\S+\", \"\", s)\n",
    "    s = s.replace(\"’\", \"\")\n",
    "    s = s.replace(\"'\", \"\")\n",
    "    s = s.replace(\"amp\", \"\")\n",
    "    s = re.sub(r\"\\s*[^A-Za-z]+\\s*\", \" \", s)\n",
    "    s = s.lower()\n",
    "    return s\n",
    "\n",
    "testing = raw_df.text[:]\n",
    "test_result = []\n",
    "for t in testing:\n",
    "    test_result.append(tweet_cleaner(t))\n",
    "#test_result"
   ]
  },
  {
   "cell_type": "code",
   "execution_count": 13,
   "metadata": {},
   "outputs": [],
   "source": [
    "# Combine into dataframe\n",
    "test = pd.DataFrame(test_result)\n",
    "test.columns = ['text']\n",
    "clean_df = pd.concat([test, test_df['username'], test_df['date'], test_df['location']], axis=1)"
   ]
  },
  {
   "cell_type": "code",
   "execution_count": 105,
   "metadata": {},
   "outputs": [],
   "source": [
    "test_df = clean_df\n",
    "clean_df = test_df[test_df.text.str.contains('lebron')]"
   ]
  },
  {
   "cell_type": "code",
   "execution_count": 14,
   "metadata": {
    "scrolled": true
   },
   "outputs": [],
   "source": [
    "clean_df.text.to_csv('example.txt', sep='\\t')"
   ]
  },
  {
   "cell_type": "code",
   "execution_count": 15,
   "metadata": {},
   "outputs": [],
   "source": [
    "del testing, test_result"
   ]
  },
  {
   "cell_type": "code",
   "execution_count": 16,
   "metadata": {},
   "outputs": [],
   "source": [
    "del raw_df, test_df, test"
   ]
  },
  {
   "cell_type": "markdown",
   "metadata": {},
   "source": [
    "## Word cloud"
   ]
  },
  {
   "cell_type": "code",
   "execution_count": null,
   "metadata": {},
   "outputs": [],
   "source": []
  },
  {
   "cell_type": "code",
   "execution_count": null,
   "metadata": {},
   "outputs": [],
   "source": [
    "#!/usr/bin/env python\n",
    "\"\"\"\n",
    "Minimal Example\n",
    "===============\n",
    "Generating a square wordcloud from the US constitution using default arguments.\n",
    "\"\"\"\n",
    "\n",
    "from os import path\n",
    "from wordcloud import WordCloud\n",
    "\n",
    "#d = path.dirname(__file__)\n",
    "\n",
    "# Read the whole text.\n",
    "text = open(path.join('./example.txt')).read()\n",
    "\n",
    "# Generate a word cloud image\n",
    "wordcloud = WordCloud().generate(text)\n",
    "\n",
    "# Display the generated image:\n",
    "# the matplotlib way:\n",
    "import matplotlib.pyplot as plt\n",
    "plt.imshow(wordcloud, interpolation='bilinear')\n",
    "plt.axis(\"off\")\n",
    "\n",
    "# lower max_font_size\n",
    "wordcloud = WordCloud(max_font_size=40).generate(text)\n",
    "plt.figure()\n",
    "plt.imshow(wordcloud, interpolation=\"bilinear\")\n",
    "plt.axis(\"off\")\n",
    "plt.show()\n",
    "\n",
    "# The pil way (if you don't have matplotlib)\n",
    "# image = wordcloud.to_image()\n",
    "#image.show()"
   ]
  },
  {
   "cell_type": "code",
   "execution_count": 17,
   "metadata": {},
   "outputs": [],
   "source": [
    "from nltk.sentiment.vader import SentimentIntensityAnalyzer\n",
    "sid = SentimentIntensityAnalyzer()\n",
    "\n",
    "sentdata = pd.DataFrame(columns=['neg', 'neu', 'pos', 'compound'])\n",
    "        \n",
    "test = clean_df.text[:]\n",
    "\n",
    "for sentence in test:\n",
    "    ss = sid.polarity_scores(sentence)\n",
    "    sentdata = sentdata.append(pd.DataFrame(ss, index=[0]))\n",
    "#     for k in sorted(ss):\n",
    "#         print('{0}: {1}, '.format(k, ss[k]), end='')\n",
    "#         print()"
   ]
  },
  {
   "cell_type": "code",
   "execution_count": 18,
   "metadata": {},
   "outputs": [],
   "source": [
    "del test"
   ]
  },
  {
   "cell_type": "markdown",
   "metadata": {},
   "source": [
    "## Graphing"
   ]
  },
  {
   "cell_type": "code",
   "execution_count": 35,
   "metadata": {},
   "outputs": [],
   "source": [
    "test = sentdata.query('compound != 0.0000')"
   ]
  },
  {
   "cell_type": "code",
   "execution_count": null,
   "metadata": {},
   "outputs": [],
   "source": [
    "# import numpy as np\n",
    "# import matplotlib.pyplot as plt\n",
    "\n",
    "# plotdata = pd.concat([clean_df['date'], sentdata['compound']], axis=1)\n",
    "#plotdata = plotdata[plotdata.compound != 0]"
   ]
  },
  {
   "cell_type": "code",
   "execution_count": 74,
   "metadata": {},
   "outputs": [
    {
     "data": {
      "image/png": "[encoded data removed]",
      "text/plain": [
       "<Figure size 432x288 with 1 Axes>"
      ]
     },
     "metadata": {},
     "output_type": "display_data"
    }
   ],
   "source": [
    "import numpy as np\n",
    "import matplotlib.pyplot as plt\n",
    "\n",
    "tlength = 5000\n",
    "\n",
    "ind = np.arange(tlength)\n",
    "\n",
    "plt.scatter(ind,test['compound'][:tlength])\n",
    "\n",
    "frame1 = plt.gca()\n",
    "frame1.axes.get_xaxis().set_visible(False)\n",
    "plt.show()"
   ]
  },
  {
   "cell_type": "markdown",
   "metadata": {},
   "source": [
    "### Data with time"
   ]
  },
  {
   "cell_type": "code",
   "execution_count": 76,
   "metadata": {},
   "outputs": [],
   "source": [
    "test_df = clean_df"
   ]
  },
  {
   "cell_type": "code",
   "execution_count": 77,
   "metadata": {},
   "outputs": [],
   "source": [
    "test_df['date'] = pd.to_datetime(test_df['date'])  "
   ]
  },
  {
   "cell_type": "code",
   "execution_count": 78,
   "metadata": {},
   "outputs": [
    {
     "data": {
      "text/html": [
       "<div>\n",
       "<style scoped>\n",
       "    .dataframe tbody tr th:only-of-type {\n",
       "        vertical-align: middle;\n",
       "    }\n",
       "\n",
       "    .dataframe tbody tr th {\n",
       "        vertical-align: top;\n",
       "    }\n",
       "\n",
       "    .dataframe thead th {\n",
       "        text-align: right;\n",
       "    }\n",
       "</style>\n",
       "<table border=\"1\" class=\"dataframe\">\n",
       "  <thead>\n",
       "    <tr style=\"text-align: right;\">\n",
       "      <th></th>\n",
       "      <th>text</th>\n",
       "      <th>username</th>\n",
       "      <th>date</th>\n",
       "      <th>location</th>\n",
       "    </tr>\n",
       "  </thead>\n",
       "  <tbody>\n",
       "    <tr>\n",
       "      <th>0</th>\n",
       "      <td>imagine the possibilities of a lineup includi...</td>\n",
       "      <td>SugeW</td>\n",
       "      <td>2018-06-30 12:49:33</td>\n",
       "      <td>Delaware</td>\n",
       "    </tr>\n",
       "    <tr>\n",
       "      <th>1</th>\n",
       "      <td>reasonssports michaelryanruiz all the praise ...</td>\n",
       "      <td>SuperJamono</td>\n",
       "      <td>2018-06-30 12:49:33</td>\n",
       "      <td></td>\n",
       "    </tr>\n",
       "    <tr>\n",
       "      <th>2</th>\n",
       "      <td>ladies dont date a guy who follows lebron to e...</td>\n",
       "      <td>Mr_CEO_BTRAIN</td>\n",
       "      <td>2018-06-30 12:49:30</td>\n",
       "      <td>Uhrichsville  ➡️  Akron</td>\n",
       "    </tr>\n",
       "    <tr>\n",
       "      <th>3</th>\n",
       "      <td>lebron james business ventures howard mitchell...</td>\n",
       "      <td>hmitchell535</td>\n",
       "      <td>2018-06-30 12:49:28</td>\n",
       "      <td></td>\n",
       "    </tr>\n",
       "    <tr>\n",
       "      <th>4</th>\n",
       "      <td>forget the lakers and the cavs lebron should s...</td>\n",
       "      <td>sportsbyfry</td>\n",
       "      <td>2018-06-30 12:49:26</td>\n",
       "      <td>Canada</td>\n",
       "    </tr>\n",
       "    <tr>\n",
       "      <th>5</th>\n",
       "      <td>drew carmichaeldave i disagree about it being...</td>\n",
       "      <td>OldTakesExposed</td>\n",
       "      <td>2018-06-30 12:49:26</td>\n",
       "      <td>West Palm Beach, FL</td>\n",
       "    </tr>\n",
       "    <tr>\n",
       "      <th>6</th>\n",
       "      <td>darrendreger it would be lebron signing with ...</td>\n",
       "      <td>DarylJay62</td>\n",
       "      <td>2018-06-30 12:49:23</td>\n",
       "      <td>Toronto Ontario Canada</td>\n",
       "    </tr>\n",
       "    <tr>\n",
       "      <th>7</th>\n",
       "      <td>the streets is watching hip hop proverb</td>\n",
       "      <td>GrandStCentral</td>\n",
       "      <td>2018-06-30 12:49:11</td>\n",
       "      <td>Toronto, Ontario</td>\n",
       "    </tr>\n",
       "    <tr>\n",
       "      <th>8</th>\n",
       "      <td>jemelehill i know all of you think that once ...</td>\n",
       "      <td>Jreid1997</td>\n",
       "      <td>2018-06-30 12:49:10</td>\n",
       "      <td>United States</td>\n",
       "    </tr>\n",
       "    <tr>\n",
       "      <th>9</th>\n",
       "      <td>billsimmons the knicks go for at least billio...</td>\n",
       "      <td>brianfreeog</td>\n",
       "      <td>2018-06-30 12:49:06</td>\n",
       "      <td></td>\n",
       "    </tr>\n",
       "  </tbody>\n",
       "</table>\n",
       "</div>"
      ],
      "text/plain": [
       "                                                text         username  \\\n",
       "0   imagine the possibilities of a lineup includi...            SugeW   \n",
       "1   reasonssports michaelryanruiz all the praise ...      SuperJamono   \n",
       "2  ladies dont date a guy who follows lebron to e...    Mr_CEO_BTRAIN   \n",
       "3  lebron james business ventures howard mitchell...     hmitchell535   \n",
       "4  forget the lakers and the cavs lebron should s...      sportsbyfry   \n",
       "5   drew carmichaeldave i disagree about it being...  OldTakesExposed   \n",
       "6   darrendreger it would be lebron signing with ...       DarylJay62   \n",
       "7           the streets is watching hip hop proverb    GrandStCentral   \n",
       "8   jemelehill i know all of you think that once ...        Jreid1997   \n",
       "9   billsimmons the knicks go for at least billio...      brianfreeog   \n",
       "\n",
       "                 date                 location  \n",
       "0 2018-06-30 12:49:33                 Delaware  \n",
       "1 2018-06-30 12:49:33                           \n",
       "2 2018-06-30 12:49:30  Uhrichsville  ➡️  Akron  \n",
       "3 2018-06-30 12:49:28                           \n",
       "4 2018-06-30 12:49:26                   Canada  \n",
       "5 2018-06-30 12:49:26      West Palm Beach, FL  \n",
       "6 2018-06-30 12:49:23   Toronto Ontario Canada  \n",
       "7 2018-06-30 12:49:11         Toronto, Ontario  \n",
       "8 2018-06-30 12:49:10            United States  \n",
       "9 2018-06-30 12:49:06                           "
      ]
     },
     "execution_count": 78,
     "metadata": {},
     "output_type": "execute_result"
    }
   ],
   "source": [
    "test_df[:10]"
   ]
  },
  {
   "cell_type": "code",
   "execution_count": 84,
   "metadata": {},
   "outputs": [
    {
     "name": "stdout",
     "output_type": "stream",
     "text": [
      "                                                   text         username  \\\n",
      "1899  i love that lebron is changing the dynamic of ...   carbocommander   \n",
      "1900  lebron james weighing many options as free age...         nbariver   \n",
      "1901   goat szn chinkyeyedmike demidrange youre a le...    Dangitbfousey   \n",
      "1902   optic scumper you do realize that lebron has ...     trodriguez82   \n",
      "1903   thejonasknox maybe the pregnancy test compani...     IAmSuchADope   \n",
      "1904  nba notebook lebron reportedly opting out beco...         nbariver   \n",
      "1905  also ive been saying this for over a year now ...  andrew_gormley4   \n",
      "1906   heartsunity hunterrob b ingramdagoat nbaontnt...        VipersLoL   \n",
      "1907  real basketball fans know that nothing was bet...      rollie_rexx   \n",
      "1908                         lebron is coming to philly   carbocommander   \n",
      "1909   nba free agency what lebron james opting out ...         akmm1292   \n",
      "1910  what the cavaliers should do if lebron james l...         akmm1292   \n",
      "1911  lebron is playing at the highest offensive lev...   bayless_ebooks   \n",
      "1912  this shows that the lebron kwahi lakers is mos...   Senor_Bucketes   \n",
      "1913  this actually makes sense i respect lebron but...       SantoNina1   \n",
      "1914  lebron is going to shock the basketball world ...           Ernray   \n",
      "1915   mavcarter lebron will win no chips in la with...            Ugo23   \n",
      "1916                          lebron is going to boston        Origino__   \n",
      "1917                                 lebron free agent          nbariver   \n",
      "1918                     will lebron stay in cleveland           brit_bx   \n",
      "1919  your brother has been eliminated by a lebron l...          kelandx   \n",
      "1920                         what if lebron doesnt come      yung_jason5   \n",
      "1921  ven a lebron james en houston o los angeles ba...     El_Clarinete   \n",
      "1922                is lebron going lakers next season           CeeM1st   \n",
      "1923  lakers news latest on lebron james post opt ou...         nbariver   \n",
      "1924  i liked a youtube video lebron james pros and ...  MrWillzIfUNasty   \n",
      "1925  laker fans who say i dont want lebron gotta be...   Christiancp_88   \n",
      "1926  lebron james could sign with lakers before ros...     maanpacktech   \n",
      "1927  lebron to lakers may be too big of a risk for ...  LeBronJames24x7   \n",
      "1928  im throwing a party on flirt free right now yo...     TONYLEBRON11   \n",
      "...                                                 ...              ...   \n",
      "2208   put the lebron james and cap space in the bag...         cian_don   \n",
      "2209  i been called it that lebron was going to be a...   aintshitgemini   \n",
      "2210  the sports network nba notebook lebron reporte...   _SportsNetwork   \n",
      "2211   ryeyan yeah ive seen people raise the concern...     DrewSmith_33   \n",
      "2212   marieluv as a lifelong lakers and dallascowbo...         BIGACE22   \n",
      "2213  its am tf better wake up to a commitment from ...     ManoMagic101   \n",
      "2214  magic johnsons contentions about a two summer ...    YahooSportsUS   \n",
      "2215  lebron james pros and cons for the lakers ers ...      dailyvidoes   \n",
      "2216  warriors this afraid of the team lebron about ...      B_Trpcevski   \n",
      "2217  i would love it if the lakers didnt get lebron...  spencerbennett7   \n",
      "2218   jwepp weve al watched enough lebron was more ...  ParisnoworNever   \n",
      "2219  woj narrows lebron james landing spots talks d...      dailyvidoes   \n",
      "2220  thats no knock on isaiah thomas either its jus...       Bow2thaMan   \n",
      "2221  lmaooo i almost feel like lebron wants to come...        Weber6God   \n",
      "2222             ramsnfl make their pitch to kingjames         MSNSports   \n",
      "2223   primeshaquille he aint going to big girl stat...     alleyeson_zo   \n",
      "2224   kingjames hey lebron im still your chinese fa...          YNQ1994   \n",
      "2225  forget the lakers and cavs lebron should join ...        fry______   \n",
      "2226  this is the time when kingjames haters become ...     chanurahemal   \n",
      "2227  examining the ripple effects of lebron james f...        iBoldNews   \n",
      "2228   ryeyan im a mavs fan but definitely favor and...     DrewSmith_33   \n",
      "2229                                         lebron pls         mikeyle_   \n",
      "2230  magic johnson its your time to make a move sig...  BasketbolNation   \n",
      "2231                               to see lebron james     CherlizSCohen   \n",
      "2232  how lebron can walk away from m contract but i...  rellscottjones1   \n",
      "2233  i just wanted a snapchat story of me zooming i...    CherlizSCohen   \n",
      "2234  lebron think the rookies could take him too th...   YoungMoneyKev3   \n",
      "2235  just realized when lebron comes to lakers ima ...       Kashmanx24   \n",
      "2236  when it comes to nba free agency its all about...     nypostsports   \n",
      "2237   lxrdflowers morcgreen quick question how i go...    iAm_LionWoodz   \n",
      "\n",
      "                    date                                          location  \n",
      "1899 2018-06-30 08:59:51                                   Culver City, CA  \n",
      "1900 2018-06-30 08:59:48                                                    \n",
      "1901 2018-06-30 08:59:43                                   California, USA  \n",
      "1902 2018-06-30 08:59:06                                      Del City, OK  \n",
      "1903 2018-06-30 08:58:57                                     Brentwood, TN  \n",
      "1904 2018-06-30 08:58:48                                                    \n",
      "1905 2018-06-30 08:58:34                                                    \n",
      "1906 2018-06-30 08:57:05                            Sweden ✈️ Los Angeles   \n",
      "1907 2018-06-30 08:57:05                                             NOLA   \n",
      "1908 2018-06-30 08:57:00                                   Culver City, CA  \n",
      "1909 2018-06-30 08:56:33                                                    \n",
      "1910 2018-06-30 08:56:31                                                    \n",
      "1911 2018-06-30 08:56:22                                      Bristol, Ct.  \n",
      "1912 2018-06-30 08:56:21                                    Charleston, SC  \n",
      "1913 2018-06-30 08:56:17                                                    \n",
      "1914 2018-06-30 08:56:15                                         Kampala.   \n",
      "1915 2018-06-30 08:56:15                                                NJ  \n",
      "1916 2018-06-30 08:56:13                                               170  \n",
      "1917 2018-06-30 08:55:48                                                    \n",
      "1918 2018-06-30 08:55:35                                                    \n",
      "1919 2018-06-30 08:55:18                                                    \n",
      "1920 2018-06-30 08:55:17                                   Los Angeles, CA  \n",
      "1921 2018-06-30 08:55:02                            Aguascalientes, México  \n",
      "1922 2018-06-30 08:54:52                                               Mia  \n",
      "1923 2018-06-30 08:54:48                                                    \n",
      "1924 2018-06-30 08:54:23                      Music Video for Let Me Know   \n",
      "1925 2018-06-30 08:54:10                                      Eastvale, CA  \n",
      "1926 2018-06-30 08:54:09                                        Texas, USA  \n",
      "1927 2018-06-30 08:54:03                                 CANADA, Victoria   \n",
      "1928 2018-06-30 08:53:58                                                    \n",
      "...                  ...                                               ...  \n",
      "2208 2018-06-30 08:04:25                                      Ferguson, MO  \n",
      "2209 2018-06-30 08:04:12                                       tr3 o 5ive   \n",
      "2210 2018-06-30 08:04:05                                                    \n",
      "2211 2018-06-30 08:03:31                                             Texas  \n",
      "2212 2018-06-30 08:03:23                                                    \n",
      "2213 2018-06-30 08:03:20                           impregnating a stripper  \n",
      "2214 2018-06-30 08:03:14  Los Angeles, CASunnyvale, Californie, États-Unis  \n",
      "2215 2018-06-30 08:02:55                                                    \n",
      "2216 2018-06-30 08:02:53                                                    \n",
      "2217 2018-06-30 08:02:52                               Southern California  \n",
      "2218 2018-06-30 08:02:48                                            oregon  \n",
      "2219 2018-06-30 08:02:42                                                    \n",
      "2220 2018-06-30 08:02:34                                    Chattanooga tn  \n",
      "2221 2018-06-30 08:02:32                                            Canada  \n",
      "2222 2018-06-30 08:02:18                                               USA  \n",
      "2223 2018-06-30 08:01:59                                  Big Baller Land   \n",
      "2224 2018-06-30 08:01:22                                                    \n",
      "2225 2018-06-30 08:01:22                                  Toronto, Ontario  \n",
      "2226 2018-06-30 08:01:20                                                    \n",
      "2227 2018-06-30 08:01:11                                          New York  \n",
      "2228 2018-06-30 08:01:06                                             Texas  \n",
      "2229 2018-06-30 08:00:54                                            Fresno  \n",
      "2230 2018-06-30 08:00:53                           Quezon City Philippines  \n",
      "2231 2018-06-30 08:00:49                                            la/nyc  \n",
      "2232 2018-06-30 08:00:45                                              Ohio  \n",
      "2233 2018-06-30 08:00:37                                            la/nyc  \n",
      "2234 2018-06-30 08:00:34                                     Greenwich, CT  \n",
      "2235 2018-06-30 08:00:17                                                    \n",
      "2236 2018-06-30 08:00:16                                New York, New York  \n",
      "2237 2018-06-30 08:00:05                                      Cali (I.E.)   \n",
      "\n",
      "[339 rows x 4 columns]\n"
     ]
    }
   ],
   "source": [
    "mask = (test_df['date'] <= '2018-06-30 09:00:00') & (test_df['date'] > '2018-06-30 08:00:00')\n",
    "print(test_df.loc[mask])"
   ]
  },
  {
   "cell_type": "code",
   "execution_count": 89,
   "metadata": {},
   "outputs": [
    {
     "data": {
      "text/plain": [
       "339"
      ]
     },
     "execution_count": 89,
     "metadata": {},
     "output_type": "execute_result"
    }
   ],
   "source": [
    "len(test_df.loc[mask])"
   ]
  },
  {
   "cell_type": "code",
   "execution_count": null,
   "metadata": {},
   "outputs": [],
   "source": []
  }
 ],
 "metadata": {
  "kernelspec": {
   "display_name": "Python 3",
   "language": "python",
   "name": "python3"
  },
  "language_info": {
   "codemirror_mode": {
    "name": "ipython",
    "version": 3
   },
   "file_extension": ".py",
   "mimetype": "text/x-python",
   "name": "python",
   "nbconvert_exporter": "python",
   "pygments_lexer": "ipython3",
   "version": "3.6.5"
  }
 },
 "nbformat": 4,
 "nbformat_minor": 2
}
